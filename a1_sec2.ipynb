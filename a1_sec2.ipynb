{
 "cells": [
  {
   "cell_type": "markdown",
   "id": "b3cb9a11-2882-463f-a812-08b10873990d",
   "metadata": {},
   "source": [
    "# Section 2\n",
    "Name: Michelle Fong  \n"
   ]
  },
  {
   "cell_type": "markdown",
   "id": "3d24b107-912b-4add-bd13-70d7ea6fa2ec",
   "metadata": {},
   "source": [
    "## Question 4"
   ]
  },
  {
   "cell_type": "code",
   "execution_count": 10,
   "id": "00a87c11-46c2-42c0-9cf0-edc40f85e0ce",
   "metadata": {},
   "outputs": [
    {
     "data": {
      "text/plain": [
       "[array(['blue', 'yellow', 'red', 'red'], dtype=object),\n",
       " array(['orange', 'apple', 'orange', 'apple'], dtype=object)]"
      ]
     },
     "execution_count": 10,
     "metadata": {},
     "output_type": "execute_result"
    }
   ],
   "source": [
    "import numpy as np\n",
    "\n",
    "def fruit_experiment(num_simulations):\n",
    "    # input details\n",
    "    boxes = ['red', 'blue', 'yellow']\n",
    "    # P(choosing one of the box)\n",
    "    p_box = [1/3, 1/3, 1/3]  \n",
    "\n",
    "    fruits = {\n",
    "        'red': ['apple', 'apple', 'apple', 'orange', 'orange', 'orange', 'orange', 'orange'],\n",
    "        'blue': ['apple', 'apple', 'apple', 'apple', 'orange', 'orange', 'orange', 'orange'],\n",
    "        'yellow': ['apple', 'orange']\n",
    "    }\n",
    "\n",
    "    # random part \n",
    "    rng = np.random.default_rng()\n",
    "\n",
    "    # random indices for drawing box\n",
    "    box_indices = rng.integers(0, len(boxes), size=num_simulations)\n",
    "    \n",
    "    # create an array with drawn boxes\n",
    "    boxes = np.array(boxes, dtype='object')[box_indices]\n",
    "\n",
    "    # indices of fruit drawn\n",
    "    fruit_indices = [rng.integers(0, len(fruits[box])) for box in boxes]\n",
    "    # an array: extract selected fruit by selected_box and the selected_fruit_indices\n",
    "    fruits = np.array([fruits[box][idx] for box, idx in zip(boxes, fruit_indices)], dtype='object')\n",
    "\n",
    "    return boxes, fruits\n",
    "\n",
    "num_simulations = 4\n",
    "boxes, fruits = fruit_experiment(num_simulations)\n",
    "output = [boxes, fruits]\n",
    "output\n"
   ]
  },
  {
   "cell_type": "markdown",
   "id": "7e9580bf-3382-407c-811b-f0e9320d57bf",
   "metadata": {},
   "source": [
    "<div style=\"background-color: lightgrey; padding: 10px;\">\n",
    "Question:  If the picked fruit is an apple, what is the probability that it was picked\n",
    "from the yellow box?\n",
    "</div> "
   ]
  },
  {
   "cell_type": "markdown",
   "id": "e4c33cca-a73b-42cb-9719-8549ac002259",
   "metadata": {},
   "source": [
    "Representation:  \n",
    "$\\{r, b, y\\} \\in B$  \n",
    "$\\{a, o\\} \\in F$  \n",
    "\n",
    "Notation:  \n",
    "- $B$: a Random Variable representing the identity of the selected box  \n",
    "- $r$, $b$, $y$: correpsonds to red, blue, yellow box\n",
    "\n",
    "- $F$: a Random Variable representing the identity of the selected fruit  \n",
    "- $a$, $o$: corresponds to apple and orange"
   ]
  },
  {
   "cell_type": "markdown",
   "id": "96e7acf5-b349-4830-8556-23eb41f09b41",
   "metadata": {},
   "source": [
    "Given $P(F=a)$, what is $P(y|a)$?  \n",
    "\n",
    "$$\\begin{align}\n",
    "P(y|a) &= \\frac{P(y \\cap a)}{P(a)}\\\\\n",
    "& = \\frac{P(a|y)P(y)}{P(a|r)P(r) + P(a|b)P(b) + P(a|y)P(y)}\\\\\n",
    "& = \\frac{1/2*1/3}{3/8*1/3 + 1/2*1/3 + 1/2*1/3}\\\\\n",
    "& = \\frac{4}{11}\\\\\n",
    "& \\approx 0.3636\n",
    "\\end{align}$$\n"
   ]
  },
  {
   "cell_type": "code",
   "execution_count": 12,
   "id": "d5db1db3-334c-4011-8dc0-893d5ce57f49",
   "metadata": {
    "scrolled": true
   },
   "outputs": [
    {
     "name": "stdout",
     "output_type": "stream",
     "text": [
      "Simulated probability: 0.3668\n"
     ]
    }
   ],
   "source": [
    "num_simulations = 100000\n",
    "boxes, fruits = fruit_experiment(num_simulations)\n",
    "\n",
    "# p(y & a)\n",
    "apple_yellow = np.sum((fruits == 'apple') & (boxes == 'yellow'))\n",
    "# p(a)\n",
    "apple = np.sum(fruits == 'apple')\n",
    "\n",
    "simulated_prob = apple_yellow / apple\n",
    "\n",
    "print(\"Simulated probability:\", round(simulated_prob,4))"
   ]
  },
  {
   "cell_type": "markdown",
   "id": "c0049ac5-0cb1-47a0-9eff-f19d496d7761",
   "metadata": {},
   "source": [
    "The simulated result is very close to the maths derivation above so double check the probability."
   ]
  },
  {
   "cell_type": "markdown",
   "id": "3c9a656c-1762-454d-8977-729780821a6a",
   "metadata": {},
   "source": [
    "## Question 5"
   ]
  },
  {
   "cell_type": "markdown",
   "id": "8f871716-56eb-4122-b613-bbb723ba6900",
   "metadata": {},
   "source": [
    "#### I"
   ]
  },
  {
   "cell_type": "code",
   "execution_count": 14,
   "id": "78e0e35f-c96f-4474-927b-32a7032cf46a",
   "metadata": {},
   "outputs": [
    {
     "data": {
      "text/plain": [
       "array([17, 18, 21, 15, 12,  7,  5, 20, 14, 20, 26,  1,  8, 17,  7,  2, 14,\n",
       "       15, 19, 20, 14,  7, 18,  8,  8, 17,  6, 16, 10, 24, 15, 14, 12,  4,\n",
       "       20, 13, 12,  4, 15,  8, 12,  2, 23, 10,  5, 13, 16,  5, 18,  3, 18,\n",
       "       10,  9,  3, 22, 19,  5, 10, 20, 14, 17,  5, 10,  9, 16,  5,  1,  1,\n",
       "       15,  3,  8, 12, 10,  3, 12,  6, 14,  1, 17, 19,  9, 10, 10, 14, 10,\n",
       "       12, 12,  6, 13, 12, 15,  6, 16,  1,  8, 15, 10, 14,  4, 16])"
      ]
     },
     "execution_count": 14,
     "metadata": {},
     "output_type": "execute_result"
    }
   ],
   "source": [
    "def die_experiment(num_simulations):\n",
    "    scores = []\n",
    "\n",
    "    for _ in range(num_simulations):\n",
    "        # first die roll\n",
    "        X = np.random.randint(1, 7)  \n",
    "\n",
    "        # subsequent die roll size of X\n",
    "        Yi = np.random.randint(1, 7, size=X)\n",
    "        score = np.sum(Yi)\n",
    "\n",
    "        scores.append(score)\n",
    "\n",
    "    return np.array(scores)\n",
    "\n",
    "results = die_experiment(100)\n",
    "results"
   ]
  },
  {
   "cell_type": "markdown",
   "id": "b06fe282-180e-45e4-9323-80cea5920ee2",
   "metadata": {},
   "source": [
    "#### II\n",
    "With 10000 repetition, it is assume the sample of outcome will be approximately normal under the law of large number. Under normal distribution, the alphs/2 = 2.25% corresponds to 1.96 standard deviation."
   ]
  },
  {
   "cell_type": "code",
   "execution_count": 27,
   "id": "2410e93a-bef1-46e0-a06c-feaee3404196",
   "metadata": {},
   "outputs": [
    {
     "name": "stdout",
     "output_type": "stream",
     "text": [
      "Estimated expected final score: 12.2198\n",
      "95% Confidence interval: 12.0875 to 12.3521\n"
     ]
    }
   ],
   "source": [
    "import numpy as np\n",
    "from scipy import stats\n",
    "num_simulations = 10000\n",
    "scores = die_experiment(num_simulations)\n",
    "\n",
    "# expected final score\n",
    "expected_z = np.mean(scores)\n",
    "\n",
    "# sample sd of error of expected_z = sd/sqrt(n)\n",
    "se = np.std(scores) / np.sqrt(num_simulations)\n",
    "\n",
    "# 95% CI\n",
    "alpha = 0.95  \n",
    "ci = [expected_z - 1.96*se,\n",
    "      expected_z + 1.96*se]\n",
    "\n",
    "print(\"Estimated expected final score:\", expected_z)\n",
    "print(f\"95% Confidence interval: {ci[0]:.4f} to {ci[1]:.4f}\")"
   ]
  },
  {
   "cell_type": "markdown",
   "id": "dee5afdd-622e-47f6-b197-3ef9813bf66d",
   "metadata": {},
   "source": [
    "<div style=\"background-color: lightgrey; padding: 10px;\">\n",
    "Analytically derive the E[Z]   \n",
    "    \n",
    "Hint: Determine first the conditional expectation E[Z|X = x] given a specific value of x for X. Then use an appropriate rule of probability to obtain the marginal expectation E[Z].\n",
    "</div>"
   ]
  },
  {
   "cell_type": "markdown",
   "id": "2f99ec71-aab1-4a3d-b236-e778de6c9469",
   "metadata": {},
   "source": [
    "$$\\begin{align}\n",
    "Z &= Y_{1} + Y_{2} + Y_{3} + Y_{4} + Y_{5} + Y_{6} \\\\\n",
    "E(Z|X=x) &= E(Y_{1} + Y_{2} + Y_{3} + Y_{4} + Y_{5} + Y_{6} | X=x)\n",
    "\\end{align}$$\n",
    "\n",
    "Given the die is fair, probability of rolling a 1/2/3/4/5/6 are all equal therefore:\n",
    "$$\\begin{align}\n",
    "E(Y_{1}| X=x) &= \\frac{1}{6}(1+2+3+4+5+6)\\\\\n",
    "&=\\frac{21}{6}\\\\\n",
    "&\\\\\n",
    "E(Z| X=x) &= x*E(Y_1|X=x)\\\\\n",
    "&\\\\\n",
    "E(Z) &= \\sum_x{E(Z|X=x)*P(X=x)}\\\\\n",
    "&= \\sum_x {x*\\frac{21}{6}* P(X=x)}\\\\\n",
    "& = \\sum_{x=1}^{6}x*\\frac{21}{6}*\\frac{1}{6}\\\\\n",
    "& = 12.25\n",
    "\\end{align}$$"
   ]
  },
  {
   "cell_type": "markdown",
   "id": "cae0dde0-4489-4202-9a6d-190a60c7311a",
   "metadata": {},
   "source": [
    "The analytical result align with the simulateion above"
   ]
  }
 ],
 "metadata": {
  "kernelspec": {
   "display_name": "Python 3 (ipykernel)",
   "language": "python",
   "name": "python3"
  },
  "language_info": {
   "codemirror_mode": {
    "name": "ipython",
    "version": 3
   },
   "file_extension": ".py",
   "mimetype": "text/x-python",
   "name": "python",
   "nbconvert_exporter": "python",
   "pygments_lexer": "ipython3",
   "version": "3.10.11"
  }
 },
 "nbformat": 4,
 "nbformat_minor": 5
}
