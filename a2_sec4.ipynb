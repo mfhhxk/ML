{
 "cells": [
  {
   "cell_type": "markdown",
   "id": "d6645052-0e1c-4388-a863-1e212e6e164a",
   "metadata": {},
   "source": [
    "# Section 4  \n",
    "Name: Michelle Fong  \n"
   ]
  },
  {
   "cell_type": "markdown",
   "id": "b0eca98a-c6c8-45f9-9fcb-2a0da8143496",
   "metadata": {},
   "source": [
    "## I"
   ]
  },
  {
   "cell_type": "code",
   "execution_count": null,
   "id": "c345b62e-6d01-45e9-a2b5-e37189406a89",
   "metadata": {},
   "outputs": [
    {
     "name": "stdout",
     "output_type": "stream",
     "text": [
      "Portfolio 1:\n",
      "Expected Value: 75.00\n",
      "Standard Deviation: 10.16\n",
      "\n",
      "Portfolio 2:\n",
      "Expected Value: 75.00\n",
      "Standard Deviation: 11.28\n",
      "\n",
      "Portfolio 3:\n",
      "Expected Value: 75.00\n",
      "Standard Deviation: 11.14\n",
      "\n",
      "Portfolio 4:\n",
      "Expected Value: 75.00\n",
      "Standard Deviation: 7.64\n",
      "\n"
     ]
    }
   ],
   "source": [
    "import numpy as np\n",
    "\n",
    "# code up the info\n",
    "mean = np.array([100, 100, 50, 50])\n",
    "std = np.array([20, 22, 5, 5])\n",
    "corr_matrix = np.array([\n",
    "    [1.0, 0.9, 0.0, 0.0],\n",
    "    [0.9, 1.0, -0.9, -0.9],\n",
    "    [0.0, -0.9, 1.0, 0.5],\n",
    "    [0.0, -0.9, 0.5, 1.0]\n",
    "])\n",
    "\n",
    "# Portfolio weights\n",
    "portfolio_weights = np.array([[50, 0, 25, 25],\n",
    "                            [0, 50, 50, 0],\n",
    "                            [0, 50, 25, 25],\n",
    "                            [25, 25, 25, 25]])\n",
    "\n",
    "# Calculate portfolio expected values and standard deviations\n",
    "expected_values = portfolio_weights.dot(mean)\n",
    "std_matrix = np.diag(std ** 2)\n",
    "std_devs = np.sqrt(\n",
    "    np.diag(portfolio_weights.dot(std_matrix).dot(portfolio_weights.T))\n",
    "    )\n",
    "\n",
    "# Print results\n",
    "for i in range(len(expected_values)):\n",
    "    print(f\"Portfolio {i + 1}:\")\n",
    "    print(f\"Expected Value: {expected_values[i]:.2f}\")\n",
    "    print(f\"Standard Deviation: {std_devs[i]:.2f}\\n\")\n",
    "\n"
   ]
  },
  {
   "cell_type": "markdown",
   "id": "85d57b22-ffd6-4ecb-86f0-58cf7dcfb3e3",
   "metadata": {},
   "source": [
    "All 4 portfolio has an expected value of 75 but portfolio 4 has a smaller standard deviation and hence a smaller variance. That means the variability of earning of portfolio 4 is smaller and less uncertainty. Conservative investor should choose portfolio 4."
   ]
  },
  {
   "cell_type": "markdown",
   "id": "e2407264-22bc-436d-a935-cde36fc181cc",
   "metadata": {},
   "source": [
    "## II"
   ]
  },
  {
   "cell_type": "markdown",
   "id": "77fd91b0-85cd-4a5e-8557-897ba35f347d",
   "metadata": {},
   "source": [
    "Expected value of portfolio:\n",
    "$$\n",
    "\\begin{aligned}\n",
    "&= \\sum_{i}^{}w_i \\mu_i \\\\\n",
    "&= w_{1}\\mu_{1} + w_{2}\\mu_{2} + w_{3}\\mu_{3} + w_{4}\\mu_{4} \\\\\n",
    "\\end{aligned}\n",
    "$$\n",
    "where   \n",
    "$w_i$ is the weight of i-th asset in the portfolio  \n",
    "$\\mu_i$ is the mean return of the i-th asset   \n",
    "\n",
    "Based on linearity of expectation, expected return of a portfolio in this case is equals to the sum of the expected return of each asset in the portfolio."
   ]
  },
  {
   "cell_type": "markdown",
   "id": "6e5ea4e5",
   "metadata": {},
   "source": [
    "\n",
    "$$\n",
    "\\begin{align}\n",
    "\\text{std\\_matrix} = \n",
    "\\begin{pmatrix}\n",
    "20 & 0 & 0 & 0\\\\\n",
    "0 & 22 & 0 & 0\\\\\n",
    "0 & 0 & 5 & 0\\\\\n",
    "0 & 0 & 0 & 5\n",
    "\\end{pmatrix}\n",
    "\\\\\n",
    "\\text{portfolio\\_weights} = \n",
    "\\begin{pmatrix}\n",
    "50 & 0 & 25 & 25\\\\\n",
    "0 & 50 & 50 & 0\\\\\n",
    "0 & 50 & 25 & 25\\\\\n",
    "25 & 25 & 25 & 25\n",
    "\\end{pmatrix}\n",
    "\\end{align}\n",
    "$$\n",
    "\n",
    "Formula used to find Variance:  \n",
    "$$\n",
    "\\begin{equation}\n",
    "= Diag(\\text{portfolio\\_weights} \\cdot \\text{std\\_matrix} \\cdot \\text{portfolio\\_weights}^T)\n",
    "\\end{equation}\n",
    "$$\n",
    "\n",
    "Hence Standard Deviation:\n",
    "$$\n",
    "\\begin{equation}\n",
    "= \\sqrt{Diag(\\text{portfolio\\_weights} \\cdot \\text{std\\_matrix} \\cdot \\text{portfolio\\_weights}^T)}\n",
    "\\end{equation}\n",
    "$$\n"
   ]
  },
  {
   "cell_type": "markdown",
   "id": "0d365a09",
   "metadata": {},
   "source": [
    "After multiply portfolio_weight by std_matrix and the inverse of the portfolio_weight, the result will be the weight covariance matrix and hence the diagonal elements will be the variance while the off-diagonal elements will be the covariance between assets i and j. "
   ]
  },
  {
   "cell_type": "markdown",
   "id": "aa94e02b",
   "metadata": {},
   "source": []
  }
 ],
 "metadata": {
  "kernelspec": {
   "display_name": "Python 3 (ipykernel)",
   "language": "python",
   "name": "python3"
  },
  "language_info": {
   "codemirror_mode": {
    "name": "ipython",
    "version": 3
   },
   "file_extension": ".py",
   "mimetype": "text/x-python",
   "name": "python",
   "nbconvert_exporter": "python",
   "pygments_lexer": "ipython3",
   "version": "3.10.11"
  }
 },
 "nbformat": 4,
 "nbformat_minor": 5
}
